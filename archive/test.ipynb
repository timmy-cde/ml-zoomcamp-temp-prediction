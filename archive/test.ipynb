{
 "cells": [
  {
   "cell_type": "code",
   "execution_count": 2,
   "metadata": {},
   "outputs": [],
   "source": [
    "import cloudpickle\n",
    "import pandas as pd\n",
    "from datetime import datetime"
   ]
  },
  {
   "cell_type": "code",
   "execution_count": 3,
   "metadata": {},
   "outputs": [],
   "source": [
    "with open('model_v1.bin', 'rb') as f_in:\n",
    "    model = cloudpickle.load(f_in)"
   ]
  },
  {
   "cell_type": "code",
   "execution_count": 31,
   "metadata": {},
   "outputs": [],
   "source": [
    "input = {'datetime': '2024-10-22 20:00:00',\n",
    "#  'temperature_2m': 25.1,\n",
    " 'relative_humidity_2m': 95.0,\n",
    " 'dew_point_2m': 24.3,\n",
    "#  'apparent_temperature': 30.2,\n",
    " 'precipitation': 1.0,\n",
    " 'rain': 1.0,\n",
    " 'weather_code': 55.0,\n",
    " 'pressure_msl': 1004.0,\n",
    " 'surface_pressure': 1003.0,\n",
    " 'cloud_cover': 87.0,\n",
    " 'cloud_cover_low': 0.0,\n",
    " 'cloud_cover_mid': 95.0,\n",
    " 'cloud_cover_high': 100.0,\n",
    " 'et0_fao_evapotranspiration': 0.0,\n",
    " 'vapour_pressure_deficit': 0.16,\n",
    " 'wind_speed_10m': 8.3,\n",
    " 'wind_speed_100m': 8.0,\n",
    " 'wind_direction_10m': 90.0,\n",
    " 'wind_direction_100m': 98.0,\n",
    " 'wind_gusts_10m': 18.4,\n",
    " 'soil_temperature_0_to_7cm': 26.9,\n",
    " 'soil_temperature_7_to_28cm': 28.7,\n",
    " 'soil_temperature_28_to_100cm': 28.9,\n",
    " 'soil_temperature_100_to_255cm': 29.2,\n",
    " 'soil_moisture_0_to_7cm': 0.46,\n",
    " 'soil_moisture_7_to_28cm': 0.426,\n",
    " 'soil_moisture_28_to_100cm': 0.423,\n",
    " 'soil_moisture_100_to_255cm': 0.493,\n",
    " 'shortwave_radiation': 0.0,\n",
    " 'direct_radiation': 0.0,\n",
    " 'diffuse_radiation': 0.0,\n",
    " 'direct_normal_irradiance': 0.0,\n",
    " 'global_tilted_irradiance': 0.0,\n",
    " 'terrestrial_radiation': 0.0,\n",
    " 'shortwave_radiation_instant': 0.0,\n",
    " 'direct_radiation_instant': 0.0,\n",
    " 'diffuse_radiation_instant': 0.0,\n",
    " 'direct_normal_irradiance_instant': 0.0,\n",
    " 'global_tilted_irradiance_instant': 0.0,\n",
    " 'terrestrial_radiation_instant': 0.0}\n",
    "\n",
    "# x = pd.DataFrame([input])\n",
    "# x.datetime = pd.to_datetime(x.datetime)\n",
    "# x['year'] = x.datetime.dt.year\n",
    "# x['month'] = x.datetime.dt.month\n",
    "# x['day_of_week'] = x.datetime.dt.day_of_week\n",
    "# x['day_of_year'] = x.datetime.dt.day_of_year\n",
    "# x['hour'] = x.datetime.dt.hour\n",
    "\n",
    "dt = datetime.strptime(input[\"datetime\"], \"%Y-%m-%d %H:%M:%S\")\n",
    "input[\"year\"] = dt.year\n",
    "input[\"month\"] = dt.month\n",
    "input[\"day_of_week\"] = dt.weekday()  \n",
    "input[\"day_of_year\"] = dt.timetuple().tm_yday\n",
    "input[\"hour\"] = dt.hour\n",
    "# del input['datetime']"
   ]
  },
  {
   "cell_type": "code",
   "execution_count": 30,
   "metadata": {},
   "outputs": [],
   "source": [
    "x = [list(input.values())]"
   ]
  },
  {
   "cell_type": "code",
   "execution_count": 35,
   "metadata": {},
   "outputs": [
    {
     "ename": "ValueError",
     "evalue": "X has 43 features, but ColumnTransformer is expecting 45 features as input.",
     "output_type": "error",
     "traceback": [
      "\u001b[1;31m---------------------------------------------------------------------------\u001b[0m",
      "\u001b[1;31mValueError\u001b[0m                                Traceback (most recent call last)",
      "Cell \u001b[1;32mIn[35], line 1\u001b[0m\n\u001b[1;32m----> 1\u001b[0m \u001b[43mmodel\u001b[49m\u001b[38;5;241;43m.\u001b[39;49m\u001b[43mpredict\u001b[49m\u001b[43m(\u001b[49m\u001b[43mx\u001b[49m\u001b[43m)\u001b[49m\n",
      "File \u001b[1;32mc:\\Users\\User\\.virtualenvs\\ml-zoomcamp-temp-prediction-UD_BFAAe\\Lib\\site-packages\\sklearn\\pipeline.py:600\u001b[0m, in \u001b[0;36mPipeline.predict\u001b[1;34m(self, X, **params)\u001b[0m\n\u001b[0;32m    598\u001b[0m \u001b[38;5;28;01mif\u001b[39;00m \u001b[38;5;129;01mnot\u001b[39;00m _routing_enabled():\n\u001b[0;32m    599\u001b[0m     \u001b[38;5;28;01mfor\u001b[39;00m _, name, transform \u001b[38;5;129;01min\u001b[39;00m \u001b[38;5;28mself\u001b[39m\u001b[38;5;241m.\u001b[39m_iter(with_final\u001b[38;5;241m=\u001b[39m\u001b[38;5;28;01mFalse\u001b[39;00m):\n\u001b[1;32m--> 600\u001b[0m         Xt \u001b[38;5;241m=\u001b[39m \u001b[43mtransform\u001b[49m\u001b[38;5;241;43m.\u001b[39;49m\u001b[43mtransform\u001b[49m\u001b[43m(\u001b[49m\u001b[43mXt\u001b[49m\u001b[43m)\u001b[49m\n\u001b[0;32m    601\u001b[0m     \u001b[38;5;28;01mreturn\u001b[39;00m \u001b[38;5;28mself\u001b[39m\u001b[38;5;241m.\u001b[39msteps[\u001b[38;5;241m-\u001b[39m\u001b[38;5;241m1\u001b[39m][\u001b[38;5;241m1\u001b[39m]\u001b[38;5;241m.\u001b[39mpredict(Xt, \u001b[38;5;241m*\u001b[39m\u001b[38;5;241m*\u001b[39mparams)\n\u001b[0;32m    603\u001b[0m \u001b[38;5;66;03m# metadata routing enabled\u001b[39;00m\n",
      "File \u001b[1;32mc:\\Users\\User\\.virtualenvs\\ml-zoomcamp-temp-prediction-UD_BFAAe\\Lib\\site-packages\\sklearn\\utils\\_set_output.py:313\u001b[0m, in \u001b[0;36m_wrap_method_output.<locals>.wrapped\u001b[1;34m(self, X, *args, **kwargs)\u001b[0m\n\u001b[0;32m    311\u001b[0m \u001b[38;5;129m@wraps\u001b[39m(f)\n\u001b[0;32m    312\u001b[0m \u001b[38;5;28;01mdef\u001b[39;00m \u001b[38;5;21mwrapped\u001b[39m(\u001b[38;5;28mself\u001b[39m, X, \u001b[38;5;241m*\u001b[39margs, \u001b[38;5;241m*\u001b[39m\u001b[38;5;241m*\u001b[39mkwargs):\n\u001b[1;32m--> 313\u001b[0m     data_to_wrap \u001b[38;5;241m=\u001b[39m \u001b[43mf\u001b[49m\u001b[43m(\u001b[49m\u001b[38;5;28;43mself\u001b[39;49m\u001b[43m,\u001b[49m\u001b[43m \u001b[49m\u001b[43mX\u001b[49m\u001b[43m,\u001b[49m\u001b[43m \u001b[49m\u001b[38;5;241;43m*\u001b[39;49m\u001b[43margs\u001b[49m\u001b[43m,\u001b[49m\u001b[43m \u001b[49m\u001b[38;5;241;43m*\u001b[39;49m\u001b[38;5;241;43m*\u001b[39;49m\u001b[43mkwargs\u001b[49m\u001b[43m)\u001b[49m\n\u001b[0;32m    314\u001b[0m     \u001b[38;5;28;01mif\u001b[39;00m \u001b[38;5;28misinstance\u001b[39m(data_to_wrap, \u001b[38;5;28mtuple\u001b[39m):\n\u001b[0;32m    315\u001b[0m         \u001b[38;5;66;03m# only wrap the first output for cross decomposition\u001b[39;00m\n\u001b[0;32m    316\u001b[0m         return_tuple \u001b[38;5;241m=\u001b[39m (\n\u001b[0;32m    317\u001b[0m             _wrap_data_with_container(method, data_to_wrap[\u001b[38;5;241m0\u001b[39m], X, \u001b[38;5;28mself\u001b[39m),\n\u001b[0;32m    318\u001b[0m             \u001b[38;5;241m*\u001b[39mdata_to_wrap[\u001b[38;5;241m1\u001b[39m:],\n\u001b[0;32m    319\u001b[0m         )\n",
      "File \u001b[1;32mc:\\Users\\User\\.virtualenvs\\ml-zoomcamp-temp-prediction-UD_BFAAe\\Lib\\site-packages\\sklearn\\compose\\_column_transformer.py:1069\u001b[0m, in \u001b[0;36mColumnTransformer.transform\u001b[1;34m(self, X, **params)\u001b[0m\n\u001b[0;32m   1065\u001b[0m         \u001b[38;5;28;01mraise\u001b[39;00m \u001b[38;5;167;01mValueError\u001b[39;00m(\u001b[38;5;124mf\u001b[39m\u001b[38;5;124m\"\u001b[39m\u001b[38;5;124mcolumns are missing: \u001b[39m\u001b[38;5;132;01m{\u001b[39;00mdiff\u001b[38;5;132;01m}\u001b[39;00m\u001b[38;5;124m\"\u001b[39m)\n\u001b[0;32m   1066\u001b[0m \u001b[38;5;28;01melse\u001b[39;00m:\n\u001b[0;32m   1067\u001b[0m     \u001b[38;5;66;03m# ndarray was used for fitting or transforming, thus we only\u001b[39;00m\n\u001b[0;32m   1068\u001b[0m     \u001b[38;5;66;03m# check that n_features_in_ is consistent\u001b[39;00m\n\u001b[1;32m-> 1069\u001b[0m     \u001b[38;5;28;43mself\u001b[39;49m\u001b[38;5;241;43m.\u001b[39;49m\u001b[43m_check_n_features\u001b[49m\u001b[43m(\u001b[49m\u001b[43mX\u001b[49m\u001b[43m,\u001b[49m\u001b[43m \u001b[49m\u001b[43mreset\u001b[49m\u001b[38;5;241;43m=\u001b[39;49m\u001b[38;5;28;43;01mFalse\u001b[39;49;00m\u001b[43m)\u001b[49m\n\u001b[0;32m   1071\u001b[0m \u001b[38;5;28;01mif\u001b[39;00m _routing_enabled():\n\u001b[0;32m   1072\u001b[0m     routed_params \u001b[38;5;241m=\u001b[39m process_routing(\u001b[38;5;28mself\u001b[39m, \u001b[38;5;124m\"\u001b[39m\u001b[38;5;124mtransform\u001b[39m\u001b[38;5;124m\"\u001b[39m, \u001b[38;5;241m*\u001b[39m\u001b[38;5;241m*\u001b[39mparams)\n",
      "File \u001b[1;32mc:\\Users\\User\\.virtualenvs\\ml-zoomcamp-temp-prediction-UD_BFAAe\\Lib\\site-packages\\sklearn\\base.py:443\u001b[0m, in \u001b[0;36mBaseEstimator._check_n_features\u001b[1;34m(self, X, reset)\u001b[0m\n\u001b[0;32m    440\u001b[0m     \u001b[38;5;28;01mreturn\u001b[39;00m\n\u001b[0;32m    442\u001b[0m \u001b[38;5;28;01mif\u001b[39;00m n_features \u001b[38;5;241m!=\u001b[39m \u001b[38;5;28mself\u001b[39m\u001b[38;5;241m.\u001b[39mn_features_in_:\n\u001b[1;32m--> 443\u001b[0m     \u001b[38;5;28;01mraise\u001b[39;00m \u001b[38;5;167;01mValueError\u001b[39;00m(\n\u001b[0;32m    444\u001b[0m         \u001b[38;5;124mf\u001b[39m\u001b[38;5;124m\"\u001b[39m\u001b[38;5;124mX has \u001b[39m\u001b[38;5;132;01m{\u001b[39;00mn_features\u001b[38;5;132;01m}\u001b[39;00m\u001b[38;5;124m features, but \u001b[39m\u001b[38;5;132;01m{\u001b[39;00m\u001b[38;5;28mself\u001b[39m\u001b[38;5;241m.\u001b[39m\u001b[38;5;18m__class__\u001b[39m\u001b[38;5;241m.\u001b[39m\u001b[38;5;18m__name__\u001b[39m\u001b[38;5;132;01m}\u001b[39;00m\u001b[38;5;124m \u001b[39m\u001b[38;5;124m\"\u001b[39m\n\u001b[0;32m    445\u001b[0m         \u001b[38;5;124mf\u001b[39m\u001b[38;5;124m\"\u001b[39m\u001b[38;5;124mis expecting \u001b[39m\u001b[38;5;132;01m{\u001b[39;00m\u001b[38;5;28mself\u001b[39m\u001b[38;5;241m.\u001b[39mn_features_in_\u001b[38;5;132;01m}\u001b[39;00m\u001b[38;5;124m features as input.\u001b[39m\u001b[38;5;124m\"\u001b[39m\n\u001b[0;32m    446\u001b[0m     )\n",
      "\u001b[1;31mValueError\u001b[0m: X has 43 features, but ColumnTransformer is expecting 45 features as input."
     ]
    }
   ],
   "source": [
    "model.predict(x)"
   ]
  },
  {
   "cell_type": "code",
   "execution_count": 36,
   "metadata": {},
   "outputs": [
    {
     "data": {
      "text/plain": [
       "25.123384815916253"
      ]
     },
     "execution_count": 36,
     "metadata": {},
     "output_type": "execute_result"
    }
   ],
   "source": [
    "model.predict(x).item(0)"
   ]
  },
  {
   "cell_type": "markdown",
   "metadata": {},
   "source": [
    "using flask"
   ]
  },
  {
   "cell_type": "code",
   "execution_count": 15,
   "metadata": {},
   "outputs": [],
   "source": [
    "import requests"
   ]
  },
  {
   "cell_type": "code",
   "execution_count": 16,
   "metadata": {},
   "outputs": [],
   "source": [
    "url = 'http://localhost:9696/predict'"
   ]
  },
  {
   "cell_type": "code",
   "execution_count": 17,
   "metadata": {},
   "outputs": [],
   "source": [
    "data = {\n",
    "    'datetime': '2024-10-22 20:00:00',\n",
    "    'temperature_2m': 25.1,\n",
    "    'relative_humidity_2m': 95.0,\n",
    "    'dew_point_2m': 24.3,\n",
    "    'apparent_temperature': 30.2,\n",
    "    'precipitation': 1.0,\n",
    "    'rain': 1.0,\n",
    "    'weather_code': 55.0,\n",
    "    'pressure_msl': 1004.0,\n",
    "    'surface_pressure': 1003.0,\n",
    "    'cloud_cover': 87.0,\n",
    "    'cloud_cover_low': 0.0,\n",
    "    'cloud_cover_mid': 95.0,\n",
    "    'cloud_cover_high': 100.0,\n",
    "    'et0_fao_evapotranspiration': 0.0,\n",
    "    'vapour_pressure_deficit': 0.16,\n",
    "    'wind_speed_10m': 8.3,\n",
    "    'wind_speed_100m': 8.0,\n",
    "    'wind_direction_10m': 90.0,\n",
    "    'wind_direction_100m': 98.0,\n",
    "    'wind_gusts_10m': 18.4,\n",
    "    'soil_temperature_0_to_7cm': 26.9,\n",
    "    'soil_temperature_7_to_28cm': 28.7,\n",
    "    'soil_temperature_28_to_100cm': 28.9,\n",
    "    'soil_temperature_100_to_255cm': 29.2,\n",
    "    'soil_moisture_0_to_7cm': 0.46,\n",
    "    'soil_moisture_7_to_28cm': 0.426,\n",
    "    'soil_moisture_28_to_100cm': 0.423,\n",
    "    'soil_moisture_100_to_255cm': 0.493,\n",
    "    'shortwave_radiation': 0.0,\n",
    "    'direct_radiation': 0.0,\n",
    "    'diffuse_radiation': 0.0,\n",
    "    'direct_normal_irradiance': 0.0,\n",
    "    'global_tilted_irradiance': 0.0,\n",
    "    'terrestrial_radiation': 0.0,\n",
    "    'shortwave_radiation_instant': 0.0,\n",
    "    'direct_radiation_instant': 0.0,\n",
    "    'diffuse_radiation_instant': 0.0,\n",
    "    'direct_normal_irradiance_instant': 0.0,\n",
    "    'global_tilted_irradiance_instant': 0.0,\n",
    "    'terrestrial_radiation_instant': 0.0\n",
    "}"
   ]
  },
  {
   "cell_type": "code",
   "execution_count": 37,
   "metadata": {},
   "outputs": [
    {
     "name": "stdout",
     "output_type": "stream",
     "text": [
      "{'apparent_temperature': 30.25528301073893, 'temperature_2m': 25.123384815916253}\n"
     ]
    }
   ],
   "source": [
    "response = requests.post(url, json=data).json()\n",
    "print(response)"
   ]
  },
  {
   "cell_type": "code",
   "execution_count": null,
   "metadata": {},
   "outputs": [],
   "source": []
  }
 ],
 "metadata": {
  "kernelspec": {
   "display_name": "ml-zoomcamp-temp-prediction-UD_BFAAe",
   "language": "python",
   "name": "python3"
  },
  "language_info": {
   "codemirror_mode": {
    "name": "ipython",
    "version": 3
   },
   "file_extension": ".py",
   "mimetype": "text/x-python",
   "name": "python",
   "nbconvert_exporter": "python",
   "pygments_lexer": "ipython3",
   "version": "3.11.10"
  }
 },
 "nbformat": 4,
 "nbformat_minor": 2
}
